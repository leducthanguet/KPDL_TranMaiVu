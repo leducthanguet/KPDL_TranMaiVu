{
 "cells": [
  {
   "cell_type": "code",
   "execution_count": 4,
   "metadata": {},
   "outputs": [],
   "source": [
    "def my_check(str):\n",
    "    return str[0:len(str)-1]\n",
    "def my_Function(str):\n",
    "    count = 0\n",
    "    for i in str:\n",
    "        count = count + 1\n",
    "        if i == \" \":\n",
    "            return count \n",
    "    return -1\n",
    "file1 = open(\"C:\\\\Users\\\\leduc\\\\Downloads\\\\fat_res_fin.txt\",encoding='utf-8')\n",
    "count = 0\n",
    "str1 = []\n",
    "for line in file1:\n",
    "      str1.append(line)\n",
    "file = open(\"C:\\\\Users\\\\leduc\\\\Downloads\\\\Task\\\\sentiment_analysis_test_unlabel.v1.0.txt\",encoding='utf-8')\n",
    "f = open(\"C:\\\\Users\\\\leduc\\\\Downloads\\\\Phan_tich_quan_diem\\\\SOL_3.txt\", \"a\",encoding=\"utf-8\")\n",
    "for line in file:\n",
    "      line = my_check(str1[count]) + \" \" +  line\n",
    "      count = count+1\n",
    "      f.write(line)\n",
    "f.close()"
   ]
  },
  {
   "cell_type": "code",
   "execution_count": null,
   "metadata": {},
   "outputs": [],
   "source": []
  }
 ],
 "metadata": {
  "kernelspec": {
   "display_name": "Python 3",
   "language": "python",
   "name": "python3"
  },
  "language_info": {
   "codemirror_mode": {
    "name": "ipython",
    "version": 3
   },
   "file_extension": ".py",
   "mimetype": "text/x-python",
   "name": "python",
   "nbconvert_exporter": "python",
   "pygments_lexer": "ipython3",
   "version": "3.9.0"
  }
 },
 "nbformat": 4,
 "nbformat_minor": 4
}
