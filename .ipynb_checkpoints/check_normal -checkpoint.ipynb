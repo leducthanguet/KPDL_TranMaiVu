{
 "cells": [
  {
   "cell_type": "code",
   "execution_count": 52,
   "metadata": {
    "scrolled": true
   },
   "outputs": [
    {
     "name": "stdout",
     "output_type": "stream",
     "text": [
      "__label__xuat_sac Very friendly staff, clean rooms and good breakfast . Perfect place to stay in hoi an\n",
      "\n",
      "__label__tot RECEPTION STAFF LOCATION AND POOL Địa điểm: PERFECT, CLOSE TO HOI AN CENTRE BUT QUIET BY THE RIVER BEAUTIFUL LOCATION BY THE RIVER, NEW HOTEL WITH GOOD FACILITIES CLOSE TO HOI AN CENTRE.VERY PLEASENT STAFF, ALTHOUGH RECEPTION STAFF A LITTLE ALOOF AND HAD LOST THEIR SMILES. . GREAT HOTEL TO CHARGE THE BATTERIES\n",
      "\n",
      "__label__xuat_sac Chúng tôi đã ở trong những căn phòng sang trọng vừa phải của khách sạn này với giá cả phải chăng và chúng tôi đã không bị thất vọng. Giá rất hữu nghị, phòng thực sự ấn tượng và nó có dịch vụ tuyệt vời. Chúng tôi đặt một chuyến đi thuyền Vịnh Hạ Long qua Tim người quản lý - nó là hoàn hảo. Trong khi chúng tôi là những người đồng hành, Tim nói với chúng tôi rằng Gia Bảo Grand Hotel đã có được vé đi chuyến tàu đêm Nha Trang, ở một mức giá tốt, nó làm chúng tôi vô cùng hạnh phúc ... Cảm ơn My tour đã giới thiệu cho chúng tôi khách sạn tuyệt vời này . Perfect ! \n",
      "\n",
      "__label__xuat_sac Phục vụ thư giãn, các phòng tắm hơi ngày và các dịch vụ xuất sắc. Bữa ăn sáng là xuất sắc trong quan điểm của tôi với một lựa chọn tốt. Có một vài cửa hàng địa phương và nhà hàng thực phẩm 500 mét đi bộ lên bãi biển vô cùng rẻ. Dịch vụ giặt là tuyệt vời và phòng vệ sinh rất sạch. Chơi bóng chuyền rất vui và luôn luôn có rất nhiều tiếng cười! . Perfect Holiday! \n",
      "\n",
      "__label__xuat_sac Phòng rất đẹp, hiện đại, view đẹp, giá hợp lý, nhân viên thân thiện. Tôi sẽ ủng hộ Mytour lần sau . Perfect  \n",
      "\n",
      "__label__xuat_sac Tôi thấy hài lòng về khách sạn. Dịch vụ tốt, tiện nghi đầy đủ, giá cả hợp lý. Nhân viên phục vụ chu đáo. . Perfect \n",
      "\n",
      "__label__xuat_sac Tôi ở tại khách sạn trong 7 đêm từ 27-5 mà không có 1 đêm nào để đi Vịnh Hạ Long với các em tôi. Vị trí của khách sạn là gần Hồ Hoàn Kiếm, 10 phút đi bộ, rất thuận tiện. Lệ phí ở đây là hợp lý. Phòng rất sạch sẽ và delux, tất cả các nhân viên rất thân thiện, ăn sáng ngon, không có bất kỳ rắc rối nào, tôi nghĩ rằng đây là một khách sạn hoàn hảo tại Hà Nội. Lần sau tôi sẽ ở đây 1 lần nữa. Cảm ơn đội ngũ nhân viên khách sạn đã cung cấp cho tôi một chuyến đi tuyệt vời. . Perfect \n",
      "\n",
      "__label__xuat_sac Thời gian mình ở khách sạn Hà Nội emotion là khoảng thời gian hạnh phúc nhất trong năm. Chắc là vì dịch vụ ở đây quá tốt nên mình hoàn toàn thoải mái và thư giãn để tận hưởng kỳ nghỉ. Phòng đẹp và hiện đại, nhân viên cũng rất thân thiện, người quản lý khách sạn thì chuyên nghiệp, giá cả phải chăng, vị trí thuận tiện. Ở đây mình cũng cảm thấy rất an toàn vì an ninh khá chặt chẽ. Các nhân viên luôn để ý đến khách hàng của mình xem họ cần gì và đáp ứng ngay nếu có thể. Các món ăn ở đây rất ngon, có nhiều món của nước ngoài như Trung Quốc, Nhật, Ấn Độ...Rất cảm hơn Hà Nội emotion vì đã cho mình 1 kỳ nghỉ chọn vẹn. . Perfect !!! \n",
      "\n",
      "__label__xuat_sac Mọi thứ đều perfect , vợ chồng tôi và bọn trẻ khá thích resort này . Lần tới chắc chắn ủng hộ Mytour . Nói chung là hài lòng \n",
      "\n",
      "__label__xuat_sac Gia đình chúng tôi đã ở Hồ Tràm Resort nhiều lần rồi, đây chính xác là thiên đường của Việt Nam. Nói như vậy vì chúng tôi cũng có cơ hội được ở các khu nghỉ dưỡng khác và tôi thấy Hương Tràm là số 1. Biển ở đây rất đẹp, cảm giác nó vẫn còn nguyên sơ, trong lành. Bể bơi trong khu resort có nhiều tiện nghi để vui chơi, nó có 2 ống trượt máng, các giường sunbed và nước hoa quả . Các món ăn hải sản ở đây cũng rất ngon. . Perfect \n",
      "\n",
      "__label__xuat_sac Great breakfast . perfect\n",
      "\n",
      "__label__tot the pillow was tall not comfortable good location..nice staff..all perfect . Good！\n",
      "\n",
      "__label__xuat_sac niets Super ontvangst, goede bedden, mooie kamer. Laundry service is perfect. . Een woord: Geweldig!\n",
      "\n",
      "__label__xuat_sac Nothing Everything . Perfect place to stay. Very friendly, lovely food, nice to have access to bikes etc. a great base fo\n",
      "\n",
      "__label__tot Bar in front of hotel Large room, perfect location near attractions. Wifi strong. . Great Holiday\n",
      "\n",
      "__label__xuat_sac Everything was to my satisfaction and fit perfectly within my budget. . I enjoyed myself. The staff was very courteous and helpful always.\n",
      "\n",
      "__label__xuat_sac Everything! . A perfect paradise to relax and get away\n",
      "\n",
      "__label__xuat_sac not at all every detail is perfect. . Dreams in the long hot summer night\n",
      "\n",
      "__label__xuat_sac Very excellent service ,and nice room...everything is perfect thank you Martin for your help with everything ~ . friendly convenience nice\n",
      "\n",
      "__label__xuat_sac Good friendly staff, perfect location . Tuyệt hảo\n",
      "\n",
      "__label__xuat_sac We had a room with a view and it was perfect. . Perfect, idyllic place next to the beach\n",
      "\n",
      "__label__xuat_sac Nothing Everything . A perfect hotel.\n",
      "\n",
      "22\n"
     ]
    }
   ],
   "source": [
    "from unidecode import unidecode\n",
    "def my_function(str):\n",
    "    str = str.lower()    \n",
    "    str = unidecode(str) \n",
    "    if   str.find(\"perfect\")!=-1:\n",
    "        return 1\n",
    "    return 0\n",
    "\n",
    "count   = 0\n",
    "count1  = 0\n",
    "file = open(\"C:\\\\Users\\\\leduc\\\\Downloads\\\\Phan_tich_quan_diem\\\\sentiment_analysis_result_final_1.txt\",encoding=\"utf-8\")\n",
    "for line in file:\n",
    "    if my_function(line)==1:\n",
    "      print(line)\n",
    "      count = count+1\n",
    "print(count)"
   ]
  },
  {
   "cell_type": "code",
   "execution_count": 49,
   "metadata": {},
   "outputs": [
    {
     "name": "stdout",
     "output_type": "stream",
     "text": [
      "Hi world\n"
     ]
    }
   ],
   "source": [
    "str1 = \"Hello world\"\n",
    "str2 = str1.replace(\"Hello\",\"Hi\")\n",
    "print(str2)"
   ]
  },
  {
   "cell_type": "code",
   "execution_count": null,
   "metadata": {},
   "outputs": [],
   "source": []
  }
 ],
 "metadata": {
  "kernelspec": {
   "display_name": "Python 3",
   "language": "python",
   "name": "python3"
  },
  "language_info": {
   "codemirror_mode": {
    "name": "ipython",
    "version": 3
   },
   "file_extension": ".py",
   "mimetype": "text/x-python",
   "name": "python",
   "nbconvert_exporter": "python",
   "pygments_lexer": "ipython3",
   "version": "3.9.0"
  }
 },
 "nbformat": 4,
 "nbformat_minor": 4
}
