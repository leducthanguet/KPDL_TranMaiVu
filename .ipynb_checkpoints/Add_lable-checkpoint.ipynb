{
 "cells": [
  {
   "cell_type": "code",
   "execution_count": 15,
   "metadata": {},
   "outputs": [],
   "source": [
    "from unidecode import unidecode\n",
    "def check_N(str1,str2):\n",
    "    if str1.find(str2)!=-1:\n",
    "        return 1\n",
    "    return 0\n",
    "def check_T(str1,str2):\n",
    "    str1 = str1.lower()\n",
    "    if str1.find(str2)!=-1:\n",
    "        return 1\n",
    "    return 0\n",
    "def check_KD(str1,str2):\n",
    "    str1 = str1.lower()\n",
    "    str1 = unidecode(str1)\n",
    "    if str1.find(str2)!=-1:\n",
    "        return 1\n",
    "    return 0\n",
    "def check_final(str1):\n",
    "    if check_N(str1,\"Xuất sắc\") == 1 or check_N(str1,\"Tuyệt hảo\") == 1 or check_N(str1,\". Hoàn hảo\")==1:\n",
    "        return 1        \n",
    "    elif check_T(str1,\"excellent\")==1 or check_T(str1,\"amazing\")==1 or check_T(str1,\"fantastic\")==1 or check_T(str1,\"wonderful\")==1 or check_T(str1,\"nothing everything\")==1 or check_T(str1,\"perfect\")==1: \n",
    "        return 1\n",
    "    elif check_N(str1,\". Tốt\")  == 1 or check_N(str1,\". Rất tốt\") == 1 or check_N(str1,\". Tuyệt vời\")==1 or check_N(str1,\". Khá tốt\")==1:\n",
    "        return 2\n",
    "    elif check_KD(str1,\".  binh thuong\") == 1 or check_KD(str1,\".  tam duoc\")==1 or check_KD(str1,\".  hai long\")==1 or check_KD(str1,\".  binh thuong\")==1 or check_KD(str1,\".  tot\")==1:\n",
    "        return 3\n",
    "    elif check_N(str1,\".  Dễ chịu\") == 1 or check_N(str1,\".  Tàm tạm\")==1 or check_N(str1,\".  Chấp nhận được\")==1 or check_N(str1,\".  Chưa đạt chuẩn\")==1 :\n",
    "        return 3\n",
    "    elif check_N(str1,\". Kém\")==1 or check_N(str1,\". Thất vọng\") == 1:\n",
    "        return 4\n",
    "    elif check_N(str1,\". Rất tệ\")==1:\n",
    "        return 5\n",
    "    else :\n",
    "        return 6\n",
    "f = open(\"C:\\\\Users\\\\leduc\\\\Downloads\\\\Phan_tich_quan_diem\\\\result1.txt\", \"a\",encoding=\"utf-8\")\n",
    "file = open(\"C:\\\\Users\\\\leduc\\\\Downloads\\\\Phan_tich_quan_diem\\\\test.txt\",encoding=\"utf-8\")\n",
    "for line in file:\n",
    "#     line = line.lower()\n",
    "    if check_final(line)==1:\n",
    "        line = \"__label__xuat_sac \" + line\n",
    "    elif check_final(line)==2:\n",
    "        line = \"__label__tot \" + line\n",
    "    elif check_final(line)==3:\n",
    "        line = \"__label__trung_binh \" + line\n",
    "    elif check_final(line)==4:\n",
    "        line = \"__label__kem \" + line\n",
    "    elif check_final(line)==5:\n",
    "        line = \"__label__rat_kem \" + line\n",
    "    else :\n",
    "        line = \"__label \" + line\n",
    "    f.write(line)\n",
    "f.close()\n",
    "    \n",
    "    \n",
    "        \n",
    "    \n",
    "\n",
    "\n"
   ]
  },
  {
   "cell_type": "code",
   "execution_count": null,
   "metadata": {},
   "outputs": [],
   "source": []
  }
 ],
 "metadata": {
  "kernelspec": {
   "display_name": "Python 3",
   "language": "python",
   "name": "python3"
  },
  "language_info": {
   "codemirror_mode": {
    "name": "ipython",
    "version": 3
   },
   "file_extension": ".py",
   "mimetype": "text/x-python",
   "name": "python",
   "nbconvert_exporter": "python",
   "pygments_lexer": "ipython3",
   "version": "3.9.0"
  }
 },
 "nbformat": 4,
 "nbformat_minor": 4
}
