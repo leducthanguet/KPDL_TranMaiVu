{
 "cells": [
  {
   "cell_type": "code",
   "execution_count": 3,
   "metadata": {},
   "outputs": [
    {
     "name": "stdout",
     "output_type": "stream",
     "text": [
      "20241\n"
     ]
    }
   ],
   "source": [
    "from unidecode import unidecode\n",
    "def my_function(str):\n",
    "    str = str.lower()    \n",
    "    str = unidecode(str) \n",
    "    if   str.find(\".  tot\")!=-1 :\n",
    "        return 1\n",
    "    return 0\n",
    "count   = 0\n",
    "file = open(\"C:\\\\Users\\\\leduc\\\\Downloads\\\\Phan_tich_quan_diem\\\\sentiment_analysis_result_final_1.txt\",encoding=\"utf-8\")\n",
    "f = open(\"C:\\\\Users\\\\leduc\\\\Downloads\\\\Phan_tich_quan_diem\\\\result_place.txt\", \"a\",encoding=\"utf-8\")\n",
    "for line in file:\n",
    "    if my_function(line)==1:\n",
    "       line = line.replace(\"__label__tot\",\"__label__trung_binh\")\n",
    "    f.write(line)\n",
    "    count = count+1\n",
    "f.close()\n",
    "print(count)"
   ]
  },
  {
   "cell_type": "code",
   "execution_count": null,
   "metadata": {},
   "outputs": [],
   "source": []
  }
 ],
 "metadata": {
  "kernelspec": {
   "display_name": "Python 3",
   "language": "python",
   "name": "python3"
  },
  "language_info": {
   "codemirror_mode": {
    "name": "ipython",
    "version": 3
   },
   "file_extension": ".py",
   "mimetype": "text/x-python",
   "name": "python",
   "nbconvert_exporter": "python",
   "pygments_lexer": "ipython3",
   "version": "3.9.0"
  }
 },
 "nbformat": 4,
 "nbformat_minor": 4
}
