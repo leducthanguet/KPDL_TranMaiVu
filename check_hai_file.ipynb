{
 "cells": [
  {
   "cell_type": "code",
   "execution_count": 13,
   "metadata": {
    "scrolled": false
   },
   "outputs": [
    {
     "name": "stdout",
     "output_type": "stream",
     "text": [
      "hello\n"
     ]
    }
   ],
   "source": [
    "def my_Function(str):\n",
    "    count = 0\n",
    "    for i in str:\n",
    "        if i == \" \":\n",
    "            return count \n",
    "        count = count + 1\n",
    "    return -1\n",
    "str1 = \"hello world\"\n",
    "\n",
    "print(str1[0:my_Function(str1)])"
   ]
  },
  {
   "cell_type": "code",
   "execution_count": 5,
   "metadata": {},
   "outputs": [
    {
     "name": "stdout",
     "output_type": "stream",
     "text": [
      "0.9914529914529915\n"
     ]
    }
   ],
   "source": [
    "#so sanh hai file\n",
    "def my_Check_1(str):\n",
    "    count = 0\n",
    "    for i in str:\n",
    "        if i == \" \":\n",
    "            return count \n",
    "        count = count + 1\n",
    "    return -1\n",
    "def my_Check(str1,str2):\n",
    "    count1 = my_Check_1(str1)\n",
    "    count2 = my_Check_1(str2)\n",
    "    str3 = str1[0:count1]\n",
    "    str4 = str2[0:count2]\n",
    "    if str3 == str4 or str3 == str2 or str4 == str1 or str1==str2:\n",
    "        return 1\n",
    "    return 0\n",
    "file = open(\"C:\\\\Users\\\\leduc\\\\Downloads\\\\Phan_tich_quan_diem\\\\sentiment_analysis_result_final_1.txt\",encoding='utf-8')\n",
    "count = 0\n",
    "str1 = []\n",
    "count = 0\n",
    "for line in file:\n",
    "      str1.append(line)\n",
    "file1 = open(\"C:\\\\Users\\\\leduc\\\\Downloads\\\\sentiment_analysis_result_final.txt\",encoding='utf-8')\n",
    "count = 0\n",
    "count1 = 0\n",
    "for line in file1:\n",
    "   if my_Check(line,str1[count])==1:\n",
    "    count1 = count1 + 1\n",
    "   count = count + 1\n",
    "print(count1/count)"
   ]
  },
  {
   "cell_type": "code",
   "execution_count": 22,
   "metadata": {
    "scrolled": true
   },
   "outputs": [
    {
     "name": "stdout",
     "output_type": "stream",
     "text": [
      "0.2780990477846863\n"
     ]
    }
   ],
   "source": [
    "print(6396/22999)"
   ]
  },
  {
   "cell_type": "code",
   "execution_count": null,
   "metadata": {},
   "outputs": [],
   "source": []
  },
  {
   "cell_type": "code",
   "execution_count": null,
   "metadata": {},
   "outputs": [],
   "source": []
  },
  {
   "cell_type": "code",
   "execution_count": null,
   "metadata": {},
   "outputs": [],
   "source": []
  },
  {
   "cell_type": "code",
   "execution_count": null,
   "metadata": {},
   "outputs": [],
   "source": []
  },
  {
   "cell_type": "code",
   "execution_count": null,
   "metadata": {},
   "outputs": [],
   "source": []
  },
  {
   "cell_type": "code",
   "execution_count": null,
   "metadata": {},
   "outputs": [],
   "source": []
  },
  {
   "cell_type": "code",
   "execution_count": null,
   "metadata": {},
   "outputs": [],
   "source": []
  },
  {
   "cell_type": "code",
   "execution_count": null,
   "metadata": {},
   "outputs": [],
   "source": []
  },
  {
   "cell_type": "code",
   "execution_count": 11,
   "metadata": {},
   "outputs": [],
   "source": [
    "#Loai bo label va viet ra file\n",
    "def my_check(str):\n",
    "    return str[0:len(str)-1]\n",
    "def my_Function(str):\n",
    "    count = 0\n",
    "    for i in str:\n",
    "        count = count + 1\n",
    "        if i == \" \":\n",
    "            return count \n",
    "    return -1\n",
    "def my_function1(str):\n",
    "    if   str.find(\"khởi hành\")!=-1 and (str.find(\"tour\")!=-1 or str.find(\"du lịch\")!=-1):\n",
    "        return 1\n",
    "    return 0\n",
    "file1 = open(\"C:\\\\Users\\\\leduc\\\\Downloads\\\\sentiment_analysis_result.txt\",encoding='utf-8')\n",
    "count = 0\n",
    "str1 = []\n",
    "for line in file1:\n",
    "      str1.append(line)\n",
    "file = open(\"C:\\\\Users\\\\leduc\\\\Downloads\\\\Task\\\\sentiment_analysis_test_unlabel.v1.0.txt\",encoding='utf-8')\n",
    "f = open(\"C:\\\\Users\\\\leduc\\\\Downloads\\\\Phan_tich_quan_diem\\\\final.txt\", \"a\",encoding=\"utf-8\")\n",
    "for line in file:\n",
    "      line = my_check(str1[count]) + \" \" +  line\n",
    "      count = count+1\n",
    "      f.write(line)\n",
    "f.close()"
   ]
  },
  {
   "cell_type": "code",
   "execution_count": 9,
   "metadata": {
    "scrolled": true
   },
   "outputs": [
    {
     "name": "stdout",
     "output_type": "stream",
     "text": [
      "heloo0\n"
     ]
    }
   ],
   "source": [
    "str1 = \"heloo\\n\"\n",
    "def my_check(str):\n",
    "    return str[0:len(str)-1]\n",
    "print(my_check(\"heloo0\\n\"))"
   ]
  }
 ],
 "metadata": {
  "kernelspec": {
   "display_name": "Python 3",
   "language": "python",
   "name": "python3"
  },
  "language_info": {
   "codemirror_mode": {
    "name": "ipython",
    "version": 3
   },
   "file_extension": ".py",
   "mimetype": "text/x-python",
   "name": "python",
   "nbconvert_exporter": "python",
   "pygments_lexer": "ipython3",
   "version": "3.9.0"
  }
 },
 "nbformat": 4,
 "nbformat_minor": 4
}
