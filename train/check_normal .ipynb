{
 "cells": [
  {
   "cell_type": "code",
   "execution_count": 4,
   "metadata": {},
   "outputs": [
    {
     "name": "stdout",
     "output_type": "stream",
     "text": [
      "__label__tot Phục vụ còn khá chậm , dịch vụ đi kèm ( giặt là ) không tốt Phòng ốc sạch sẽ , giường rộng , khá gần biển , có thể đi bộ ra biển . Khá tốt\n",
      "\n",
      "__label__tot Bữa sáng không được như ý, gần như same same các món hàng ngày. Thang máy nhỏ và chậm. Phòng tương đối sạch sẽ, thoang mat, có người dọn hàng ngày... Nhân viên phục phục khá tận tình. . Khá tốt\n",
      "\n",
      "__label__tot Nhân viên thân thiện - Internet - Vị trí Khá thoải mái và sẽ quay lại nếu có dịp . Khá tốt\n",
      "\n",
      "__label__tot Sạch, tiện nghi, Vị trí tốt tốt . Khá tốt\n",
      "\n",
      "__label__kem Rộng rãi, bố trí đẹp, phục vụ tốt và thức ăn ngon Là khách sạn có vị trí đẹp, khuôn viên rộng rãi thoáng mát nhiều khoảng không xanh dù bãi biển rộng rãi sạch sẽ tuy nhiên để vị trí đặt ghế nghỉ của ks còn quá xa so với biển và đường dẫn xuống cao quá rất khó cho người lớn tuổi di chuyểnThức ăn sáng ở đây khá ngon, còn các bữa ăn khác giá tương đối phù hợp và ngon miệngNgoài ra, vị trí của ks khá xa khu trung tâm mà phương tiện và thời gian đưa đón khách ko được thuận lợi cho lắm cũng như ko có xe đưa đón khách ra Ga hoặc các phương tiện vận chuyển khác (riêng vấn đề này còn fai xem xét lại) . Khá tốt\n",
      "\n",
      "__label__tot Phòng sạch, giường rộng, nhân viên nhiệt tình Khá ổn, đi lại thoải mái, tuy nhiên phí thuê xe máy cao, bữa sáng không nhiều món và ít món nóng. Giường rộng nhưng chất lượng nệm không cao, hướng phòng tệ. . Khá tốt & khá thoải mái\n",
      "\n",
      "__label__tot Yên tĩnh, Sạch sẽ và sang trọng! Thỏa mãn nhu cầu của mình! . Khá tốt cho kỳ nghỉ dưỡng\n",
      "\n",
      "__label__tot phong rong, tien nghi day du, gia phong tuong doi on so voi mot khach san 5 sao phong dep sach se, vi tri tot, an sang phong phu, gia ca phu hopSanh khach sạn khong duoc sach se,san nha kha la do doi voi 1 khach san 5 sao thi rat la te, nhan vien le tan moi nen thieu kinh nghiem lam viec kha la cham va khong than thien voi khach . Khá tốt\n",
      "\n",
      "__label__tot Gần biển, gần trung tâm, cao tầng . Khá tốt\n",
      "\n",
      "__label__tot Phòng đẹp , giá tốt , nhân viên nhiệt tình Rất hài lòng với kỳ nghỉ này khách sạn tốt nhân viên phục vụ tốt . Khá tốt\n",
      "\n",
      "__label__tot Giá hợp lý, bữa sáng Buffer, vị trí gần bãi biển Phòng hơi nhỏ, hành lang nhỏ, không nhìn ra biển nhưng yên tĩnh, gần bãi biển, khu vui chơi, khu ăn uống về đêm, nhân viên phục vụ nhiệt tình, thân thiện . Khá tốt\n",
      "\n",
      "__label__tot Ngay trung tâm hội chợ Giảng võ Tiện nghi ngay trung tam di lai de dang thuan tien ra hoi cho tham gia cac hoat dong hoi cho giang vo Lời khuyên về đặc điểm khách sạn: Tiện nghi ngay trung tam di lai de dang thuan tien ra hoi cho tham gia cac hoat dong hoi cho giang vo . Khá tốt\n",
      "\n",
      "__label__xuat_sac nhân viên, ăn sáng, vị trí Khá tốt, tuy nhiên phòng chưa có bồn tắm. . Khá tốt, tuy nhiên phòng chưa có bồn tắm.\n",
      "\n",
      "__label__tot Địa điểm, thái độ phục vụ và giá cả. Phòng ốc khá ổn, giá cả mềm, toilet khá là rộng và sạch sẽ. Sẽ là lựa chọn lần nữa khi tôi quay lại Đà Lạt. . Khá tốt với tầm giá.\n",
      "\n",
      "__label__tot Vị trí. Thân Thiện. Tốt, có điệu kiện sẽ quay lại. . Khá tốt. Vị trí thuận tiện. KS đẹp và mát mẻ.\n",
      "\n",
      "__label__tot Trung tâm, giá hợp lý, tiện đi lại Vị trí trung tâm, ngay gần phố Bùi Viện, Phạm Ngũ Lão và gần các điểm vui chơi trong thành phố. Phòng hơi nhỏ, giá hợp lý, nhân viên thân thiện! . Khá tốt\n",
      "\n",
      "__label__tot trang trí trong phòng, phòng tắm, vệ sinh Nhìn chung các mặt đều rất tốt tuy nhiên thái độ của bảo vệ (đứng tuổi) đối với khách hàng rất thiếu chuyên nghiệp. . Khá tốt\n",
      "\n",
      "__label__xuat_sac Tôi đã ở lại đây 3 đêm, khách sạn InterContinental Asiana Saigon là một nơi ở khá tốt. Tôi thật sự không có một chút phàn nàn nào về khách sạn cả, nhân viên rất hữu ích và khung cảnh xung quanh rất dễ chịu. Tuy nhiên tôi cảm thấy khách sạn này thiếu một chút cá tính và không khí. Họ cần chơi một số bản nhạc jazz nhẹ nhàng tất cả các thời gian, hoặc piano, hoặc một cái gì đó để cho nó một sự ấm áp thực sự. Nghệ sĩ dương cầm thường xuyên chơi những bản nhạc như vậy mà không có bất kỳ sự khác biệt hay thay đổi nào. Điều này kiến tôi có một chút so sánh khi bước vào khách sạn Sheraton, có vẻ vị trí tốt hơn với tương tự và nó cảm thấy ấm áp hơn rất nhiều và khá quyến rũ. Phòng ở InterContinental khá đẹp nhưng không có gì đặc biệt. Ăn sáng là khá ngon. Giường tuyệt vời, bạn sẽ có giấc ngủ tốt nhất trong cuộc sống của mình khi tận hưởng ở đây. . Khá tốt - Phù hợp cho doanh nhân\n",
      "\n",
      "__label__tot Phòng của Khách sạn Sài Gòn - Đà Lạt sạch sẽ, vị trí thuận lợi. Nhưng thức ăn sáng khôn ngon và quá ít thức ăn . Khá tốt\n",
      "\n",
      "__label__tot Khách sạn đẹp. vị trí thuận lợi, phòng ốc rộng r&atildei, tiếp tân chuyên nghiệp.Duy nhất 1 điều nếu điều chỉnh được thì Trường Giang là nơi lý tưởng cho khách nghỉ ngơi khi đến Huế: Bữa sáng khá nghèo nàn và trang trí khách sạn tẻ nhạt quá. . Khá tốt\n",
      "\n",
      "__label__tot Mình vừa ở khách sạn Minh Tâm resort, ở đây nói về phần ăn uống tại đây rất ok, các nhân viên phục vụ vui vẻ nhiệt tình, đầu bếp nấu ăn ngon. Tạo cho khách cảm giác thoải mái. Ở đây ăn uống tại resort giá cũng mềm, ăn ngon ko kém Hưng phát. Mình chỉ không ưng ý là cái mệm bằng lo xo làm mình không quen nên rất khó ngủ. Còn phòng thì rộng r&atildei thoáng mát, sạch sẽ, nếu có thêm bàn trang điểm nữa thì là hoàn hảo.Với mức giá như vậy thì mình nghỉ là hợp lý. . Khá tốt\n",
      "\n",
      "__label__tot - Đưa đón từ sân bay đến khách sạn và ngược lại rất tốt- Tiếp tân vui vẻ, tận tình- Phòng ốc thoải mái nhưng trang trí không có gì đặc biệt- Ăn sáng ít món quá- Phục vụ hồ bơi không tốt: chờ khách hỏi mới miễn cưỡng đưa khăn với thái độ không vui- Góp ý: không nên gõ cửa phòng (khi biết khách còn trong phòng) để xin vào dọn phòng . Khá tốt\n",
      "\n",
      "__label__tot - Phòng ốc The Grand Hồ Tràm Strip  tốt, thoải mái, nhân viên lịch sự. Trong phòng đầy đủ các tiện nghi, tuy nhiên còn thiếu hỗ trợ các loại giắc cắm (vd: phòng có hỗ trợ loa nghe nhạc nhưng thiếu giắc cắm từ phone vào loa để phát nhạc)- Hồ bơi đẹp, sạch sẽ. Tuy nhiên, sau 6h chiều, khu vực hồ bơi hơi tối, nên mở đèn hồ bơi vào buổi tối để quang cảnh đẹp hơn cũng như đáp ứng nhu cầu bơi lội vào buổi tối của khách hàng.- Thức ăn trong các nhà hàng của khách sạn ngon, tuy nhiên đi ngày thường có ít nhà hàng mở cửa nên không thưởng thức hết các món của các nhà hàng.- Khu vực biển hay được cảnh báo có sứa nên mình không tắm luôn :) . Khá tốt, thoải mái\n",
      "\n",
      "__label__tot Nói chung The Sailing Bay Beach Resort cũng ổn. . Khá tốt\n",
      "\n",
      "__label__tot Resort Villa Aria Mũi Né tuy nhỏ, thiết kế nội thất có nét riêng, đơn giản nhưng khá hài hòa, sân vườn trồng nhiều cây nhưng rất gọn gàng, xinh xắn. Thực tế đẹp hơn trong hình. Phòng seaview của mình 101 ở dưới trệt nên chủ yếu là poolview, bạn muốn seaview thực sự nên yêu cầu lấy phòng trên lầu. Đồ ăn bình thường, giá tương đối. Có điểm trừ là khu vực này gần mấy chỗ dụ người ta chơi cano nên mấy anh chàng hướng dẫn cứ chạy sát bờ gần người tắm biển rất nguy hiểm. Và không hiểu do cấu tạo bờ biển, thủy triều hay minh xui mà bãi biển của resort sóng tấp vào rất nhiều rác và nhớt của ghe tàu cano đánh cá. . Khá tốt\n",
      "\n",
      "25\n",
      "22\n"
     ]
    }
   ],
   "source": [
    "from unidecode import unidecode\n",
    "def my_function(str):\n",
    "    if   str.find(\". Khá tốt\")!=-1 :\n",
    "        return 1\n",
    "    return 0\n",
    "def my_function1(str):\n",
    "    if  str.find(\"__label__tot\")!=-1 and str.find(\". Khá tốt\")!=-1 :\n",
    "        return 1\n",
    "    return 0\n",
    "\n",
    "count   = 0\n",
    "count1  = 0\n",
    "file = open(\"C:\\\\Users\\\\leduc\\\\Downloads\\\\Phan_tich_quan_diem\\\\sentiment_analysis_train.v1.0.txt\",encoding=\"utf-8\")\n",
    "for line in file:\n",
    "    if my_function(line)==1:\n",
    "      print(line)\n",
    "      count = count+1\n",
    "    if my_function1(line)==1:\n",
    "      count1 = count1+1\n",
    "print(count)\n",
    "print(count1)"
   ]
  },
  {
   "cell_type": "code",
   "execution_count": null,
   "metadata": {},
   "outputs": [],
   "source": []
  }
 ],
 "metadata": {
  "kernelspec": {
   "display_name": "Python 3",
   "language": "python",
   "name": "python3"
  },
  "language_info": {
   "codemirror_mode": {
    "name": "ipython",
    "version": 3
   },
   "file_extension": ".py",
   "mimetype": "text/x-python",
   "name": "python",
   "nbconvert_exporter": "python",
   "pygments_lexer": "ipython3",
   "version": "3.9.0"
  }
 },
 "nbformat": 4,
 "nbformat_minor": 4
}
