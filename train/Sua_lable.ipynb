{
 "cells": [
  {
   "cell_type": "code",
   "execution_count": 6,
   "metadata": {},
   "outputs": [],
   "source": [
    "def my_Function(str):\n",
    "    count = 0\n",
    "    for i in str:\n",
    "        count = count + 1\n",
    "        if i == \" \":\n",
    "            return count \n",
    "    return -1\n",
    "def check(str):\n",
    "    if str.find(\"__label \")!=-1:\n",
    "        return 1\n",
    "    return 0\n",
    "f = open(\"C:\\\\Users\\\\leduc\\\\Downloads\\\\Phan_tich_quan_diem\\\\result_final.txt\", \"a\",encoding=\"utf-8\")\n",
    "file = open(\"C:\\\\Users\\\\leduc\\\\Downloads\\\\Phan_tich_quan_diem\\\\result1.txt\",encoding=\"utf-8\")\n",
    "for line in file:\n",
    "  if check(line)==1:\n",
    "    count = my_Function(line)\n",
    "    line = line[count:len(line)]\n",
    "    line = \"__label__tot \"+line\n",
    "  f.write(line)\n",
    "f.close()\n",
    "    "
   ]
  },
  {
   "cell_type": "code",
   "execution_count": 1,
   "metadata": {},
   "outputs": [
    {
     "name": "stdout",
     "output_type": "stream",
     "text": [
      "hello\n"
     ]
    }
   ],
   "source": [
    "if 1<2:\n",
    "    print(\"hello\")\n",
    "elif 2<3:\n",
    "    print(\"hi\")\n",
    "else:\n",
    "    print(\"bye\")"
   ]
  },
  {
   "cell_type": "code",
   "execution_count": 26,
   "metadata": {},
   "outputs": [
    {
     "name": "stdout",
     "output_type": "stream",
     "text": [
      "1\n"
     ]
    }
   ],
   "source": [
    "def my_Check_1(str):\n",
    "    count = 0\n",
    "    for i in str:\n",
    "        if i == \" \":\n",
    "            return count \n",
    "        count = count + 1\n",
    "    return -1\n",
    "def my_Check(str1,str2):\n",
    "    count1 = my_Check_1(str1)\n",
    "    count2 = my_Check_1(str2)\n",
    "    str3 = str1[0:count1]\n",
    "    str4 = str2[0:count2]\n",
    "    if str3 == str4 or str3 == str2 or str4 == str1 or str1==str2:\n",
    "        return 1\n",
    "    return 0\n",
    "str1 = \"Hello world\"\n",
    "str2 = \"Hello\"\n",
    "count = my_Check(str1,str2)\n",
    "print(count)"
   ]
  },
  {
   "cell_type": "code",
   "execution_count": 27,
   "metadata": {},
   "outputs": [
    {
     "ename": "ModuleNotFoundError",
     "evalue": "No module named 'fasttext'",
     "output_type": "error",
     "traceback": [
      "\u001b[1;31m---------------------------------------------------------------------------\u001b[0m",
      "\u001b[1;31mModuleNotFoundError\u001b[0m                       Traceback (most recent call last)",
      "\u001b[1;32m<ipython-input-27-c5c00c7017fe>\u001b[0m in \u001b[0;36m<module>\u001b[1;34m\u001b[0m\n\u001b[1;32m----> 1\u001b[1;33m \u001b[1;32mimport\u001b[0m \u001b[0mfasttext\u001b[0m\u001b[1;33m\u001b[0m\u001b[1;33m\u001b[0m\u001b[0m\n\u001b[0m",
      "\u001b[1;31mModuleNotFoundError\u001b[0m: No module named 'fasttext'"
     ]
    }
   ],
   "source": [
    "import fasttext\n"
   ]
  },
  {
   "cell_type": "code",
   "execution_count": null,
   "metadata": {},
   "outputs": [],
   "source": []
  }
 ],
 "metadata": {
  "kernelspec": {
   "display_name": "Python 3",
   "language": "python",
   "name": "python3"
  },
  "language_info": {
   "codemirror_mode": {
    "name": "ipython",
    "version": 3
   },
   "file_extension": ".py",
   "mimetype": "text/x-python",
   "name": "python",
   "nbconvert_exporter": "python",
   "pygments_lexer": "ipython3",
   "version": "3.9.0"
  }
 },
 "nbformat": 4,
 "nbformat_minor": 4
}
