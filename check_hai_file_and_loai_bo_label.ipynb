{
 "cells": [
  {
   "cell_type": "code",
   "execution_count": 35,
   "metadata": {
    "scrolled": false
   },
   "outputs": [
    {
     "name": "stdout",
     "output_type": "stream",
     "text": [
      "False\n"
     ]
    }
   ],
   "source": [
    "def my_Function(str):\n",
    "    count = 0\n",
    "    for i in str:\n",
    "        count = count + 1\n",
    "        if i == \" \":\n",
    "            return count \n",
    "    return -1\n",
    "str1 = \"helo\" + \"\\n\" + \"world\"\n",
    "print(str1==str2)"
   ]
  },
  {
   "cell_type": "code",
   "execution_count": 1,
   "metadata": {},
   "outputs": [
    {
     "name": "stdout",
     "output_type": "stream",
     "text": [
      "0\n"
     ]
    }
   ],
   "source": [
    "#so sanh hai file\n",
    "def my_function1(str):\n",
    "    if   str.find(\"khởi hành\")!=-1 and (str.find(\"tour\")!=-1 or str.find(\"du lịch\")!=-1):\n",
    "        return 1\n",
    "    return 0\n",
    "file = open(\"C:\\\\Users\\\\leduc\\\\Downloads\\\\Phan_tich_quan_diem\\\\sentiment_analysis_train.v1.0.txt\",encoding='utf-8')\n",
    "count = 0\n",
    "str1 = []\n",
    "count = 0\n",
    "for line in file:\n",
    "      str1.append(line)\n",
    "file1 = open(\"C:\\\\Users\\\\leduc\\\\Downloads\\\\Phan_tich_quan_diem\\\\test.txt\",encoding='utf-8')\n",
    "count = 0\n",
    "count1 = 0\n",
    "for line in file1:\n",
    "   if line == str1[count]:\n",
    "    count1 = count1 + 1\n",
    "   count = count + 1\n",
    "print(count1)"
   ]
  },
  {
   "cell_type": "code",
   "execution_count": 46,
   "metadata": {},
   "outputs": [
    {
     "name": "stdout",
     "output_type": "stream",
     "text": [
      "20\n"
     ]
    }
   ],
   "source": [
    "#Loai bo label va viet ra file\n",
    "def my_Function(str):\n",
    "    count = 0\n",
    "    for i in str:\n",
    "        count = count + 1\n",
    "        if i == \" \":\n",
    "            return count \n",
    "    return -1\n",
    "def my_function1(str):\n",
    "    if   str.find(\"khởi hành\")!=-1 and (str.find(\"tour\")!=-1 or str.find(\"du lịch\")!=-1):\n",
    "        return 1\n",
    "    return 0\n",
    "file = open(\"C:\\\\Users\\\\leduc\\\\Downloads\\\\Phan_tich_quan_diem\\\\sentiment_analysis_train.v1.0.txt\",encoding='utf-8')\n",
    "count = 0\n",
    "f = open(\"C:\\\\Users\\\\leduc\\\\Downloads\\\\Phan_tich_quan_diem\\\\test.txt\", \"a\",encoding=\"utf-8\")\n",
    "for line in file:\n",
    "      count = my_Function(line)\n",
    "      line =  line[count:len(line)]\n",
    "      f.write(line)\n",
    "f.close()\n",
    "print(count)"
   ]
  },
  {
   "cell_type": "code",
   "execution_count": null,
   "metadata": {},
   "outputs": [],
   "source": []
  }
 ],
 "metadata": {
  "kernelspec": {
   "display_name": "Python 3",
   "language": "python",
   "name": "python3"
  },
  "language_info": {
   "codemirror_mode": {
    "name": "ipython",
    "version": 3
   },
   "file_extension": ".py",
   "mimetype": "text/x-python",
   "name": "python",
   "nbconvert_exporter": "python",
   "pygments_lexer": "ipython3",
   "version": "3.9.0"
  }
 },
 "nbformat": 4,
 "nbformat_minor": 4
}
