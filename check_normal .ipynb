{
 "cells": [
  {
   "cell_type": "code",
   "execution_count": 93,
   "metadata": {
    "scrolled": false
   },
   "outputs": [
    {
     "name": "stdout",
     "output_type": "stream",
     "text": [
      "__label__trung_binh Phòng đẹp, mới. Buffet sáng nghèo nàn..  Tạm được\n",
      "\n",
      "__label__trung_binh Vị trí khá đẹp, gần trung tâm. Nhưng hơi ồn ào do ở khu tây balo, phòng cũ. Trang thiết bị khá đầy đủ, có thang máy, giường đệm có mùi chất tẩy rửa..  Tạm được \n",
      "\n",
      "__label__trung_binh Phòng hơi chật, không được thoáng cho lắm nhưng sạch. Gần sân bay nhà ga tiện di chuyển. Nên có xe đưa đón khách từ khách sạn ra những địa điểm vui chơi giải trí. Nếu có thể mở rộng hơn các phòng ốc, quy mô của khách sạn. Với một khách sạn 3* như thế chưa ổn lắm!.  Tạm được \n",
      "\n",
      "__label__trung_binh Thủ tục check in quá lâu, nhân viên vừa làm thủ tục vừa nghe điện thoại rất mất thời gian. Sữa tắm, dầu gội quá ít, khi cần phải gọi điện xin, chờ đợi. Bữa ăn sáng phong phú, gần biển, view đẹp..  Tạm được \n",
      "\n",
      "__label__trung_binh Bãi biển riêng, ban công đẹp, yên tĩnh. Khách sạn xa trung tâm, bữa sáng không đa dạng, nước yếu..  Tạm được \n",
      "\n",
      "__label__tot Vị trí đẹp và nhân viên thân thiện. Tuy nhiên, phòng hơi nhỏ. Dù gì thì đây là một khách sạn tốt so với số tiền phải trả..  Tạm được so với mức giá này \n",
      "\n",
      "__label__trung_binh Nhân viên nhiệt tình, có điều sau 12g trưa mới được nhận phòng, đi tàu đến sớm ko được nhận ngay nên hơi mệt. Vị trí tốt, gần biển.  Tạm được, hợp với giá cả.... \n",
      "\n",
      "__label__trung_binh Phòng sạch sẽ. Toilet quá nhỏ, khăn tắm không được sạch sẽ trắng tinh, phòng ăn sáng quá nhỏ..  Tạm được \n",
      "\n",
      "__label__tot Cảm ơn Mytour tận tâm hỗ trợ gia đình trong việc đặt khách sạn. Về khách sạn La Sapinette Da Lat thì phòng ốc sạch sẽ, nhân viên tận tình hòa nhã. Tuy nhiên, thức ăn quá tệ..  Tạm được \n",
      "\n",
      "__label__trung_binh Phòng nhỏ thiếu tiện nghi. Thức ăn sáng ít món. Bãi biển dơ. Xa trung tâm nên hơi bất tiện. Thái độ nhân viên ok.  Tạm được \n",
      "\n",
      "__label__trung_binh Phòng sạch sẽ, giá rẻ tuy nhiên phục vụ không chuyên nghiệp, ks yêu cầu thanh toán tiền nước đặt phòng trong khi trên web ghi là nước uống miễn phí, khi khách thắc mắc thì nv lễ tân trả lời là nước uống miễn phí thì yêu cầu bên mytour cung cấp chứ ở ks thì phải trả tiền.  Tạm được \n",
      "\n",
      "__label__trung_binh Vị trí thuận lợi nhưng phòng quá chật, cửa phòng tắm bị hư, ổ khóa bị hư. Thái độ phục vụ của nhân viên không niềm nở. Nói chung ở được, dù sao tôi cũng không ở trong khách sạn nhiều, tối mới về ngủ nên cũng không có vấn đề gì..  Tạm được \n",
      "\n",
      "__label__tot Tôi khá hài lòng với dịch vụ của khách sạn vì khách sạn ở gần trung tâm nên rất thuận tiện để đi đến các khu vực vui chơi du lịch ở Phú Quốc..  Tạm được \n",
      "\n",
      "__label__trung_binh Thái độ phục vụ còn cứng ngắt, lạnh lùng, chưa có niềm nở vui vẻ. Nhưng bù lại khách sạn giá hợp lý, yên tĩnh và tiện di chuyển đi các nơi: sân bay, trung tâm, ăn uống..  Tạm được \n",
      "\n",
      "__label__trung_binh Phòng tuy cũ, nội thất không đẹp nhưng bù lại phòng sạch sẽ. Tuy nhiên khách sạn không đủ tiêu chuẩn 4*, nhân viên phục vụ thì thân thiện, nhiệt tình..  Tạm được \n",
      "\n",
      "__label__tot Vợ chồng tôi thuê 2 phòng, 1 phòng gia đình (cho 4 người) và 1 phòng cho 2 vợ chồng. Phòng gia đình thì rộng rãi nhưng phòng cho 2 vc thì hơi nhỏ. Ăn sáng tương đối tốt. Nhân viên thân thiện..  Tạm được mà thôi \n",
      "\n",
      "__label__trung_binh Vị trí khách sạn và căn phòng chúng tôi ở đều tuyệt. Có điều bữa sáng hơi nghèo nàn, khăn tắm khá cũ và sờn, cứng, không thích hợp dùng cho trẻ nhỏ.  Tạm được \n",
      "\n",
      "__label__trung_binh Phòng khách sạn tạm được. Bữa sáng quá tệ, nhân viên có vẻ ngạc nhiên khi thấy chúng tôi và chỉ mang đến món trứng chiên..  Tạm được \n",
      "\n",
      "__label__trung_binh Gia đình 4 người ở lại Ban mai trong 3 đêm. Vị trí khách sạn không gần trung tâm lắm, phòng tương đối tốt phù hợp với giá tiền. Khách sạn yên tĩnh vào ban đêm. Ăn sáng được nhưng hơi nhiều ruồi.  Tạm được so với tầm tiền \n",
      "\n",
      "__label__trung_binh Tạm được, hôm đó trời mưa, ngay gần cửa phòng khách sạn ( tầng 2) bị dột, có lẽ nước mưa đã theo đường dây điện chảy vào, ngoài ra đường truyền internet bị hư cả đêm, không thể dùng được. Khach sạn không có cầu thang đi trực tiếp xuống hồ bơi, phài đi ngang qua sảnh tiếp tân..  Tạm được \n",
      "\n",
      "__label__trung_binh Nhà nghỉ xa khu trung tâm Đà Lạt nên bất tiện khi đi mua sắm, không có thang máy nên lên xuống hơi bị mệt, thanks mytour nhiều nhé.  Tạm được \n",
      "\n",
      "__label__trung_binh Hệ thống đang xuống cấp. Tiện nghi đầy đủ nhưng dần cũ đi nên cảm thấy không được sạch sẽ cho lắm. Nhìn chung khách sạn này cũng tạm được..  Tạm được. \n",
      "\n",
      "__label__trung_binh Nhân viên phục vụ Thái độ nhân viên phục vụ quá tệ.  Tạm được\n",
      "\n",
      "__label__trung_binh vị trí trung tâm, phòng rộng, cho checkin sớm.  tạm được, không có thang máy\n",
      "\n",
      "__label__trung_binh gần trung tâm,sạch sẽgiá hợp lý Dường như KS chuyên phục vụ khách tây nên nhân viên không nhiệt tình không thân thiện với khách VN.  tạm được\n",
      "\n",
      "__label__trung_binh Sạch gần sân bay nhà ga tiện di chuyển Phòng hơi chật, không được thoáng cho lắm!Nên có xe đưa đón khách từ Khách sạn ra những địa điểm vui chơi giải trí. Nếu có thể mở rộng hơn các phòng ốc, quy mô của khách sạn. Với một khách sạn 3* như thế chưa ổn lắm!.  Tạm được\n",
      "\n",
      "__label__tot khung canh lang mang. rong rai.tinh chat co kịnh. phu hop voi nguoi thich kien truc co cua phap.  tam duoc\n",
      "\n",
      "__label__tot - đồ ăn sáng ngon,nhân viên thân thiện,phòng sạch sẽ - Vị trí ở nơi quá hẻo lánh,xa trung tâm. - Bố cục phòng khiến phòng cảm thấy bị hơi nhỏ. - Xà Phòng và dầu gội k có. - Ánh đèn hành lang lúc tối màu xanh trông rất đáng sợ và k liên quan. Ngoài ra nv nhiệt tình,nhẹ nhàng,đồ ăn sáng rất ngon,phòng sạch sẽ..  tạm được\n",
      "\n",
      "__label__trung_binh ho boi dep, view dep, co bai bien riêng Tam duoc, phong ko sach, khan ko sach, nha tam xuống cấp rất rõ.  tam duoc\n",
      "\n",
      "__label__tot Gia tot Gia ca tot. Khach san binh dan. Thai do phuc vu tot..  Tam duoc\n",
      "\n",
      "__label__trung_binh yen tinh Tam duoc, nhung nuoc yeu, kha vang, thich hop cho gia dinh co tre nho, nguoi gia.  tam duoc\n",
      "\n",
      "__label__tot rộng rãi, vị trí đẹp, thuận tiện.  tạm được\n",
      "\n",
      "__label__tot Tôi cảm thấy dịch vụ của khách sạn cũng được, nhân viên cũng nhanh nhẹn, vui vẻ, vệ sinh cũng sạch sẽ. Tôi thấy tương đối hài lòng về dịch vụ..  Tạm được \n",
      "\n",
      "__label__trung_binh Theo ý kiến của riêng tôi thì khách sạn Khánh Linh được đánh giá : Ưu điểm : nhân viên lễ tân dễ thương, vui vẻ. Phòng cũng rộng rãi và thoải mái, đầy đủ tiện ghi. Khuyết điểm : nhân viên chưa chủ động dọn dẹp phòng và khi dọn xong thì chưa được sạch. Tôi nghĩ khách sạn nên cải thiện về việc này để khách hài lòng hơn..  Tạm được \n",
      "\n",
      "34\n"
     ]
    }
   ],
   "source": [
    "from unidecode import unidecode\n",
    "def my_function(str):\n",
    "    str = str.lower()    \n",
    "    str = unidecode(str) \n",
    "    if str.find(\".  tam duoc\")!=-1:\n",
    "        return 1\n",
    "    return 0\n",
    "\n",
    "count   = 0\n",
    "count1  = 0\n",
    "file = open(\"C:\\\\Users\\\\leduc\\\\Downloads\\\\Phan_tich_quan_diem\\\\SOL_2.txt\",encoding=\"utf-8\")\n",
    "for line in file:\n",
    "    if my_function(line)==1:\n",
    "      print(line)\n",
    "      count = count+1\n",
    "print(count)"
   ]
  },
  {
   "cell_type": "code",
   "execution_count": 49,
   "metadata": {},
   "outputs": [
    {
     "name": "stdout",
     "output_type": "stream",
     "text": [
      "Hi world\n"
     ]
    }
   ],
   "source": [
    "str1 = \"Hello world\"\n",
    "str2 = str1.replace(\"Hello\",\"Hi\")\n",
    "print(str2)"
   ]
  },
  {
   "cell_type": "code",
   "execution_count": null,
   "metadata": {},
   "outputs": [],
   "source": []
  }
 ],
 "metadata": {
  "kernelspec": {
   "display_name": "Python 3",
   "language": "python",
   "name": "python3"
  },
  "language_info": {
   "codemirror_mode": {
    "name": "ipython",
    "version": 3
   },
   "file_extension": ".py",
   "mimetype": "text/x-python",
   "name": "python",
   "nbconvert_exporter": "python",
   "pygments_lexer": "ipython3",
   "version": "3.9.0"
  }
 },
 "nbformat": 4,
 "nbformat_minor": 4
}
