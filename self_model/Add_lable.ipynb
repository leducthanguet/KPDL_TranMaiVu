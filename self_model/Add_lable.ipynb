{
 "cells": [
  {
   "cell_type": "code",
   "execution_count": 3,
   "metadata": {},
   "outputs": [],
   "source": [
    "from unidecode import unidecode\n",
    "def check_N(str1,str2):\n",
    "    if str1.find(str2)!=-1:\n",
    "        return 1\n",
    "    return 0\n",
    "def check_T(str1,str2):\n",
    "    str1 = str1.lower()\n",
    "    if str1.find(str2)!=-1:\n",
    "        return 1\n",
    "    return 0\n",
    "def check_KD(str1,str2):\n",
    "    str1 = str1.lower()\n",
    "    str1 = unidecode(str1)\n",
    "    if str1.find(str2)!=-1:\n",
    "        return 1\n",
    "    return 0\n",
    "def check_final(str1):\n",
    "    #100% xuất sắc\n",
    "    if check_N(str1,\"Xuất sắc\")==1 or check_N(str1,\"Tuyệt hảo\")==1:\n",
    "        return 1\n",
    "    #100% tốt\n",
    "     \n",
    "    #100%TB\n",
    "    elif check_N(str1,\".  Dễ chịu\")==1 or check_N(str1,\".  Tàm tạm\")==1 or check_N(str1,\".  Chấp nhận được\")==1:\n",
    "        return 3\n",
    "    elif check_KD(str1,\".  binh thuong\")==1:\n",
    "        return 3\n",
    "    #100% Kém\n",
    "    \n",
    "    \n",
    "    #100% Rất kém\n",
    "    \n",
    "    # >90% Xuất sắc\n",
    "    \n",
    "    # >90% tốt \n",
    "    \n",
    "    # >90% TB\n",
    "    \n",
    "    # >90% Kém\n",
    "    \n",
    "    # >90% Rất kém\n",
    "    \n",
    "    \n",
    "f = open(\"C:\\\\Users\\\\leduc\\\\Downloads\\\\Phan_tich_quan_diem\\\\test_demo.txt\", \"a\",encoding=\"utf-8\")\n",
    "file = open(\"C:\\\\Users\\\\leduc\\\\Downloads\\\\Phan_tich_quan_diem\\\\test.txt\",encoding=\"utf-8\")\n",
    "for line in file:\n",
    "#     line = line.lower()\n",
    "    line = \"__label__xuat_sac\" + \" \" + line\n",
    "    f.write(line)\n",
    "f.close()\n",
    "    \n",
    "    \n",
    "        \n",
    "    \n",
    "\n",
    "\n"
   ]
  },
  {
   "cell_type": "code",
   "execution_count": null,
   "metadata": {},
   "outputs": [],
   "source": [
    "file = open(\"C:\\\\Users\\\\leduc\\\\Downloads\\\\Phan_tich_quan_diem\\\\test.txt\",encoding=\"utf-8\")\n",
    "for line in file:\n",
    "    print(line)"
   ]
  }
 ],
 "metadata": {
  "kernelspec": {
   "display_name": "Python 3",
   "language": "python",
   "name": "python3"
  },
  "language_info": {
   "codemirror_mode": {
    "name": "ipython",
    "version": 3
   },
   "file_extension": ".py",
   "mimetype": "text/x-python",
   "name": "python",
   "nbconvert_exporter": "python",
   "pygments_lexer": "ipython3",
   "version": "3.9.0"
  }
 },
 "nbformat": 4,
 "nbformat_minor": 4
}
